{
 "cells": [
  {
   "cell_type": "markdown",
   "metadata": {},
   "source": [
    "Konfigurasi Dataset"
   ]
  },
  {
   "cell_type": "code",
   "execution_count": null,
   "metadata": {},
   "outputs": [
    {
     "name": "stdout",
     "output_type": "stream",
     "text": [
      "Index(['Unnamed: 0', 'directions', 'fat', 'date', 'categories', 'calories',\n",
      "       'desc', 'protein', 'rating', 'title', 'ingredients', 'sodium',\n",
      "       'bert_input_text', 'embedding'],\n",
      "      dtype='object')\n"
     ]
    }
   ],
   "source": [
    "import pandas as pd\n",
    "\n",
    "recipes_df = pd.read_csv(\"recipes_with_final_embeddings.csv\")\n",
    "pd.set_option('display.max_colwidth', None)\n",
    "\n",
    "print(recipes_df.columns)"
   ]
  },
  {
   "cell_type": "code",
   "execution_count": 4,
   "metadata": {},
   "outputs": [],
   "source": [
    "ingredients = {\n",
    "    # Protein\n",
    "    1: 'Chicken', 2: 'Fish', 3: 'Beef', 4: 'Lamb', 5: 'Egg', 6: 'Tofu', 7: 'Shrimp', 8: 'Squid', 9: 'Clam', 10: 'Crab', 11: 'Sausage', 12: 'Pork',\n",
    "    # Vegetables\n",
    "    13: 'Spinach', 14: 'Cabbage', 15: 'Eggplant', 16: 'Tomato', 17: 'Cauliflower', 18: 'Lettuce', 19: 'Bok Choy', 20: 'Bean', 21: 'Carrot', 22: 'Broccoli', 23: 'Kale', 24: 'Celery',\n",
    "    # Carbs\n",
    "    25: 'Rice', 26: 'Bread', 27: 'Potato', 28: 'Corn', 29: 'Noodle', 30: 'Pasta',\n",
    "    # Fruits\n",
    "    31: 'Apple', 32: 'Banana', 33: 'Orange', 34: 'Mango', 35: 'Grapes', 36: 'Pineapple', 37: 'Watermelon', 38: 'Strawberry', 39: 'Lemon', 40: 'Avocado', 41: 'Coconut', 42: 'Durian', 43: 'Guava', 44: 'Berry',\n",
    "    # Condiments\n",
    "    45: 'Milk', 46: 'Cheese', 47: 'Soy', 48: 'Tamarind'\n",
    "}\n",
    "\n",
    "# Button untuk milih bahan2 bisa disesuai ke index dictionary\n"
   ]
  },
  {
   "cell_type": "code",
   "execution_count": null,
   "metadata": {},
   "outputs": [
    {
     "name": "stdout",
     "output_type": "stream",
     "text": [
      "Selected ingredients:\n",
      "Chicken\n",
      "Eggplant\n",
      "                                                                                                                                                                                                          categories\n",
      "462   ['Chicken', 'Ginger', 'Nut', 'Poultry', 'Tomato', 'Quick & Easy', 'Dinner', 'Lemon', 'Almond', 'Eggplant', 'Winter', 'Clove', 'Bon Appétit', 'Wheat/Gluten-Free', 'Peanut Free', 'Soy Free', 'No Sugar Added']\n",
      "5684                                                                                                ['Soup/Stew', 'Chicken', 'Coconut', 'Basil', 'Curry', 'Eggplant', 'Green Bean', 'Simmer', 'Boil', 'Bon Appétit']\n"
     ]
    }
   ],
   "source": [
    "# list kosong buat nyimpen bahan pilihan user\n",
    "selected_ingredients = []\n",
    "\n",
    "# input user \n",
    "for i in range(3): # maksimal 3x\n",
    "    ingredient_input = input(f\"Enter ingredient {i+1} (type 'x' to finish): \") # [1] bisa ganti ke action button kyk \"Submit Ingredient\" \n",
    "    \n",
    "    if ingredient_input.lower() == 'x' and len(selected_ingredients) > 0: # [2] ganti disini juga\n",
    "        break\n",
    "    \n",
    "    try:\n",
    "        ingredient_index = int(ingredient_input)\n",
    "        if 1 <= ingredient_index <= len(ingredients):\n",
    "            selected_ingredients.append(ingredients[ingredient_index])\n",
    "    except ValueError:\n",
    "        print(\"Choose ingredient first !\") # kasih alert kalo user belum milih bahan tapi udah submit\n",
    "\n",
    "# bahan-bahan yang udah masuk ke list\n",
    "print(\"Selected ingredients:\")\n",
    "for ingredient in selected_ingredients:\n",
    "    print(ingredient)\n",
    "\n",
    "# filter bahan yang ada di dataset (resep)\n",
    "filtered_recipes = recipes_df[recipes_df['categories'].apply(lambda x: all(ingredient.lower() in x.lower() for ingredient in selected_ingredients))]\n",
    "\n",
    "\n",
    "print(filtered_recipes[['categories']]) # tampil column apa aja yang ditampilin"
   ]
  }
 ],
 "metadata": {
  "kernelspec": {
   "display_name": "Python 3",
   "language": "python",
   "name": "python3"
  },
  "language_info": {
   "codemirror_mode": {
    "name": "ipython",
    "version": 3
   },
   "file_extension": ".py",
   "mimetype": "text/x-python",
   "name": "python",
   "nbconvert_exporter": "python",
   "pygments_lexer": "ipython3",
   "version": "3.12.6"
  }
 },
 "nbformat": 4,
 "nbformat_minor": 2
}
